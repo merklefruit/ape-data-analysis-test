{
 "cells": [
  {
   "cell_type": "code",
   "execution_count": 2,
   "id": "453892c9",
   "metadata": {},
   "outputs": [],
   "source": [
    "from ape import accounts, chain, Contract, networks\n",
    "import matplotlib.pyplot as plt\n",
    "import numpy as np\n",
    "import pandas as pd"
   ]
  },
  {
   "cell_type": "code",
   "execution_count": 3,
   "id": "e2806074",
   "metadata": {},
   "outputs": [
    {
     "data": {
      "text/plain": [
       "<alchemy chain_id=137>"
      ]
     },
     "execution_count": 3,
     "metadata": {},
     "output_type": "execute_result"
    }
   ],
   "source": [
    "networks.parse_network_choice('polygon:mainnet:alchemy').__enter__()"
   ]
  },
  {
   "cell_type": "code",
   "execution_count": 4,
   "id": "93c3739e",
   "metadata": {},
   "outputs": [
    {
     "ename": "ChainError",
     "evalue": "Failed to get contract type for address '0x6B8Bc2BF3DCc979082E70D4A9D3854A1FF323dE7'.",
     "output_type": "error",
     "traceback": [
      "\u001b[0;31m---------------------------------------------------------------------------\u001b[0m",
      "\u001b[0;31mChainError\u001b[0m                                Traceback (most recent call last)",
      "\u001b[0;32m/var/folders/nj/zvlp9j5s3qn4y3mn843wzxj80000gn/T/ipykernel_44009/275674262.py\u001b[0m in \u001b[0;36m<cell line: 4>\u001b[0;34m()\u001b[0m\n\u001b[1;32m      2\u001b[0m \u001b[0;31m# https://fiveelementslabs.gitbook.io/orbit/technical-docs/contract-addresses\u001b[0m\u001b[0;34m\u001b[0m\u001b[0;34m\u001b[0m\u001b[0;34m\u001b[0m\u001b[0m\n\u001b[1;32m      3\u001b[0m \u001b[0;34m\u001b[0m\u001b[0m\n\u001b[0;32m----> 4\u001b[0;31m \u001b[0mpm_factory\u001b[0m \u001b[0;34m=\u001b[0m \u001b[0mContract\u001b[0m\u001b[0;34m(\u001b[0m\u001b[0;34m\"0x6B8Bc2BF3DCc979082E70D4A9D3854A1FF323dE7\"\u001b[0m\u001b[0;34m)\u001b[0m\u001b[0;34m\u001b[0m\u001b[0;34m\u001b[0m\u001b[0m\n\u001b[0m\u001b[1;32m      5\u001b[0m \u001b[0mdeposit_recipes\u001b[0m \u001b[0;34m=\u001b[0m \u001b[0mContract\u001b[0m\u001b[0;34m(\u001b[0m\u001b[0;34m\"0x06aBC73d84eF76EF251342420A7b395531f1527E\"\u001b[0m\u001b[0;34m)\u001b[0m\u001b[0;34m\u001b[0m\u001b[0;34m\u001b[0m\u001b[0m\n\u001b[1;32m      6\u001b[0m \u001b[0mwithdraw_recipes\u001b[0m \u001b[0;34m=\u001b[0m \u001b[0mContract\u001b[0m\u001b[0;34m(\u001b[0m\u001b[0;34m\"0xd77FAF24F2d7813d0EA04e9578cA6f486B3350c4\"\u001b[0m\u001b[0;34m)\u001b[0m\u001b[0;34m\u001b[0m\u001b[0;34m\u001b[0m\u001b[0m\n",
      "\u001b[0;32m~/dev/crypto/active/ape-data-analysis-test/venv/lib/python3.8/site-packages/ape/managers/chain.py\u001b[0m in \u001b[0;36minstance_at\u001b[0;34m(self, address, contract_type, txn_hash)\u001b[0m\n\u001b[1;32m    718\u001b[0m \u001b[0;34m\u001b[0m\u001b[0m\n\u001b[1;32m    719\u001b[0m         \u001b[0;32mif\u001b[0m \u001b[0;32mnot\u001b[0m \u001b[0mcontract_type\u001b[0m\u001b[0;34m:\u001b[0m\u001b[0;34m\u001b[0m\u001b[0;34m\u001b[0m\u001b[0m\n\u001b[0;32m--> 720\u001b[0;31m             \u001b[0;32mraise\u001b[0m \u001b[0mChainError\u001b[0m\u001b[0;34m(\u001b[0m\u001b[0;34mf\"Failed to get contract type for address '{address}'.\"\u001b[0m\u001b[0;34m)\u001b[0m\u001b[0;34m\u001b[0m\u001b[0;34m\u001b[0m\u001b[0m\n\u001b[0m\u001b[1;32m    721\u001b[0m \u001b[0;34m\u001b[0m\u001b[0m\n\u001b[1;32m    722\u001b[0m         \u001b[0;32melif\u001b[0m \u001b[0;32mnot\u001b[0m \u001b[0misinstance\u001b[0m\u001b[0;34m(\u001b[0m\u001b[0mcontract_type\u001b[0m\u001b[0;34m,\u001b[0m \u001b[0mContractType\u001b[0m\u001b[0;34m)\u001b[0m\u001b[0;34m:\u001b[0m\u001b[0;34m\u001b[0m\u001b[0;34m\u001b[0m\u001b[0m\n",
      "\u001b[0;31mChainError\u001b[0m: Failed to get contract type for address '0x6B8Bc2BF3DCc979082E70D4A9D3854A1FF323dE7'."
     ]
    }
   ],
   "source": [
    "# core contracts for Orbit DeFi\n",
    "# https://fiveelementslabs.gitbook.io/orbit/technical-docs/contract-addresses\n",
    "\n",
    "pm_factory = Contract(\"0x6B8Bc2BF3DCc979082E70D4A9D3854A1FF323dE7\")\n",
    "deposit_recipes = Contract(\"0x06aBC73d84eF76EF251342420A7b395531f1527E\")\n",
    "withdraw_recipes = Contract(\"0xd77FAF24F2d7813d0EA04e9578cA6f486B3350c4\")\n",
    "idleliquidity_module = Contract(\"0xba87D279Dcf584cB571beb543B1FA7aAC14D215e\")\n",
    "autocompound_module = Contract(\"0x67c02360Aa7DaadC80491B3e60b6802F550A76B7\")\n",
    "aave_module = Contract(\"0x9bC1C995662369f7F0E4083e8c3Dbb59B5cB10Ca\")\n",
    "registry = Contract(\"0x407B7CE4B6Cc5BcD7C19d4F55CF70159Fba964aa\")"
   ]
  },
  {
   "cell_type": "code",
   "execution_count": null,
   "id": "1c143d1b",
   "metadata": {},
   "outputs": [],
   "source": [
    "keeper_bot = \"0x329F5e0862Bf28503EB6b479fEfbB30047f74F30\"\n"
   ]
  },
  {
   "cell_type": "code",
   "execution_count": null,
   "id": "c438a6c7",
   "metadata": {},
   "outputs": [],
   "source": []
  }
 ],
 "metadata": {
  "kernelspec": {
   "display_name": "Python 3 (ipykernel)",
   "language": "python",
   "name": "python3"
  },
  "language_info": {
   "codemirror_mode": {
    "name": "ipython",
    "version": 3
   },
   "file_extension": ".py",
   "mimetype": "text/x-python",
   "name": "python",
   "nbconvert_exporter": "python",
   "pygments_lexer": "ipython3",
   "version": "3.8.0"
  }
 },
 "nbformat": 4,
 "nbformat_minor": 5
}
