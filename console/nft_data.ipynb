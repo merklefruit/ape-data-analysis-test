{
 "cells": [
  {
   "cell_type": "code",
   "execution_count": 17,
   "metadata": {},
   "outputs": [],
   "source": [
    "# some ape notebook examples:\n",
    "# curve steth analysis: https://github.com/fmrmf/hello-ape/blob/main/console/hello-ape.ipynb\n",
    "# uniswap usdc/usdt 1bps pool analysis: https://gist.github.com/banteg/dcf6082ff7fc6ad51ce220146f29d9ff\n",
    "\n",
    "from ape import accounts, chain, Contract, networks\n",
    "import matplotlib.pyplot as plt\n",
    "import numpy as np\n",
    "import pandas as pd"
   ]
  },
  {
   "cell_type": "code",
   "execution_count": 2,
   "metadata": {},
   "outputs": [
    {
     "data": {
      "text/plain": [
       "<alchemy chain_id=1>"
      ]
     },
     "execution_count": 2,
     "metadata": {},
     "output_type": "execute_result"
    }
   ],
   "source": [
    "networks.parse_network_choice('ethereum:mainnet:alchemy').__enter__()"
   ]
  },
  {
   "cell_type": "code",
   "execution_count": 3,
   "metadata": {},
   "outputs": [
    {
     "data": {
      "text/plain": [
       "'Seaport'"
      ]
     },
     "execution_count": 3,
     "metadata": {},
     "output_type": "execute_result"
    }
   ],
   "source": [
    "seaport = Contract(\"0x00000000006c3852cbEf3e08E8dF289169EdE581\")\n",
    "seaport.name()"
   ]
  },
  {
   "cell_type": "code",
   "execution_count": 4,
   "metadata": {},
   "outputs": [
    {
     "data": {
      "text/plain": [
       "OrderFulfilled(bytes32 orderHash, address indexed offerer, address indexed zone, address recipient, (uint8,address,uint256,uint256)[] offer, (uint8,address,uint256,uint256,address)[] consideration)"
      ]
     },
     "execution_count": 4,
     "metadata": {},
     "output_type": "execute_result"
    }
   ],
   "source": [
    "seaport.OrderFulfilled"
   ]
  },
  {
   "cell_type": "code",
   "execution_count": 5,
   "metadata": {},
   "outputs": [],
   "source": [
    "curr_block = chain.blocks[-1].number\n",
    "blocks_1d = int(60*60*24/12)"
   ]
  },
  {
   "cell_type": "code",
   "execution_count": 6,
   "metadata": {},
   "outputs": [
    {
     "data": {
      "text/plain": [
       "15458752"
      ]
     },
     "execution_count": 6,
     "metadata": {},
     "output_type": "execute_result"
    }
   ],
   "source": [
    "start_block = curr_block - blocks_1d\n",
    "start_block"
   ]
  },
  {
   "cell_type": "code",
   "execution_count": 7,
   "metadata": {},
   "outputs": [
    {
     "name": "stdout",
     "output_type": "stream",
     "text": [
      "INFO: Cache database has not been initialized\n",
      "CPU times: user 35.9 s, sys: 1.74 s, total: 37.7 s\n",
      "Wall time: 37.1 s\n"
     ]
    }
   ],
   "source": [
    "%time recent_trades = seaport.OrderFulfilled.query(\"*\", start_block=start_block)"
   ]
  },
  {
   "cell_type": "code",
   "execution_count": 8,
   "metadata": {},
   "outputs": [
    {
     "data": {
      "text/html": [
       "<div>\n",
       "<style scoped>\n",
       "    .dataframe tbody tr th:only-of-type {\n",
       "        vertical-align: middle;\n",
       "    }\n",
       "\n",
       "    .dataframe tbody tr th {\n",
       "        vertical-align: top;\n",
       "    }\n",
       "\n",
       "    .dataframe thead th {\n",
       "        text-align: right;\n",
       "    }\n",
       "</style>\n",
       "<table border=\"1\" class=\"dataframe\">\n",
       "  <thead>\n",
       "    <tr style=\"text-align: right;\">\n",
       "      <th></th>\n",
       "      <th>event_name</th>\n",
       "      <th>contract_address</th>\n",
       "      <th>event_arguments</th>\n",
       "      <th>transaction_hash</th>\n",
       "      <th>block_number</th>\n",
       "      <th>block_hash</th>\n",
       "      <th>log_index</th>\n",
       "      <th>transaction_index</th>\n",
       "    </tr>\n",
       "  </thead>\n",
       "  <tbody>\n",
       "    <tr>\n",
       "      <th>0</th>\n",
       "      <td>OrderFulfilled</td>\n",
       "      <td>0x00000000006c3852cbEf3e08E8dF289169EdE581</td>\n",
       "      <td>{'offerer': '0xD3678aAd0c996231D6ED91014830259...</td>\n",
       "      <td>0x12d0f405533b9884f741e9746931c9143a64080ed1e7...</td>\n",
       "      <td>15458752</td>\n",
       "      <td>0xa681ca381a23b3dab2f99d61cc9d9d7e4f17cd408eaa...</td>\n",
       "      <td>129</td>\n",
       "      <td>104</td>\n",
       "    </tr>\n",
       "    <tr>\n",
       "      <th>1</th>\n",
       "      <td>OrderFulfilled</td>\n",
       "      <td>0x00000000006c3852cbEf3e08E8dF289169EdE581</td>\n",
       "      <td>{'offerer': '0x663B94FD8A80fFe66004799029FB518...</td>\n",
       "      <td>0x31dfb272682fbcd44e18cd0a29672bc66340e296e3ef...</td>\n",
       "      <td>15458752</td>\n",
       "      <td>0xa681ca381a23b3dab2f99d61cc9d9d7e4f17cd408eaa...</td>\n",
       "      <td>132</td>\n",
       "      <td>107</td>\n",
       "    </tr>\n",
       "    <tr>\n",
       "      <th>2</th>\n",
       "      <td>OrderFulfilled</td>\n",
       "      <td>0x00000000006c3852cbEf3e08E8dF289169EdE581</td>\n",
       "      <td>{'offerer': '0xD1C3c9cdBB335ec425ac44aA9975037...</td>\n",
       "      <td>0x00cd6e22779c0b7e29e459aa4ad645121e3a4e968da4...</td>\n",
       "      <td>15458752</td>\n",
       "      <td>0xa681ca381a23b3dab2f99d61cc9d9d7e4f17cd408eaa...</td>\n",
       "      <td>176</td>\n",
       "      <td>127</td>\n",
       "    </tr>\n",
       "    <tr>\n",
       "      <th>3</th>\n",
       "      <td>OrderFulfilled</td>\n",
       "      <td>0x00000000006c3852cbEf3e08E8dF289169EdE581</td>\n",
       "      <td>{'offerer': '0xB168f9575FA65fc25e21447228D994C...</td>\n",
       "      <td>0x3fbd9ea33e5e7039c62d6d66095d74b0321426d23ad7...</td>\n",
       "      <td>15458752</td>\n",
       "      <td>0xa681ca381a23b3dab2f99d61cc9d9d7e4f17cd408eaa...</td>\n",
       "      <td>180</td>\n",
       "      <td>132</td>\n",
       "    </tr>\n",
       "    <tr>\n",
       "      <th>4</th>\n",
       "      <td>OrderFulfilled</td>\n",
       "      <td>0x00000000006c3852cbEf3e08E8dF289169EdE581</td>\n",
       "      <td>{'offerer': '0x0F284580198bb8490F5cA28B999869e...</td>\n",
       "      <td>0xe13e091b53c9503475f0c7a10d77150a7d45e36a35e2...</td>\n",
       "      <td>15458753</td>\n",
       "      <td>0x9c33f21ccbd70807f1d23c4820a7d8d70326526aae25...</td>\n",
       "      <td>199</td>\n",
       "      <td>181</td>\n",
       "    </tr>\n",
       "  </tbody>\n",
       "</table>\n",
       "</div>"
      ],
      "text/plain": [
       "       event_name                            contract_address  \\\n",
       "0  OrderFulfilled  0x00000000006c3852cbEf3e08E8dF289169EdE581   \n",
       "1  OrderFulfilled  0x00000000006c3852cbEf3e08E8dF289169EdE581   \n",
       "2  OrderFulfilled  0x00000000006c3852cbEf3e08E8dF289169EdE581   \n",
       "3  OrderFulfilled  0x00000000006c3852cbEf3e08E8dF289169EdE581   \n",
       "4  OrderFulfilled  0x00000000006c3852cbEf3e08E8dF289169EdE581   \n",
       "\n",
       "                                     event_arguments  \\\n",
       "0  {'offerer': '0xD3678aAd0c996231D6ED91014830259...   \n",
       "1  {'offerer': '0x663B94FD8A80fFe66004799029FB518...   \n",
       "2  {'offerer': '0xD1C3c9cdBB335ec425ac44aA9975037...   \n",
       "3  {'offerer': '0xB168f9575FA65fc25e21447228D994C...   \n",
       "4  {'offerer': '0x0F284580198bb8490F5cA28B999869e...   \n",
       "\n",
       "                                    transaction_hash  block_number  \\\n",
       "0  0x12d0f405533b9884f741e9746931c9143a64080ed1e7...      15458752   \n",
       "1  0x31dfb272682fbcd44e18cd0a29672bc66340e296e3ef...      15458752   \n",
       "2  0x00cd6e22779c0b7e29e459aa4ad645121e3a4e968da4...      15458752   \n",
       "3  0x3fbd9ea33e5e7039c62d6d66095d74b0321426d23ad7...      15458752   \n",
       "4  0xe13e091b53c9503475f0c7a10d77150a7d45e36a35e2...      15458753   \n",
       "\n",
       "                                          block_hash  log_index  \\\n",
       "0  0xa681ca381a23b3dab2f99d61cc9d9d7e4f17cd408eaa...        129   \n",
       "1  0xa681ca381a23b3dab2f99d61cc9d9d7e4f17cd408eaa...        132   \n",
       "2  0xa681ca381a23b3dab2f99d61cc9d9d7e4f17cd408eaa...        176   \n",
       "3  0xa681ca381a23b3dab2f99d61cc9d9d7e4f17cd408eaa...        180   \n",
       "4  0x9c33f21ccbd70807f1d23c4820a7d8d70326526aae25...        199   \n",
       "\n",
       "   transaction_index  \n",
       "0                104  \n",
       "1                107  \n",
       "2                127  \n",
       "3                132  \n",
       "4                181  "
      ]
     },
     "execution_count": 8,
     "metadata": {},
     "output_type": "execute_result"
    }
   ],
   "source": [
    "recent_trades.head()"
   ]
  },
  {
   "cell_type": "code",
   "execution_count": 9,
   "metadata": {
    "scrolled": true
   },
   "outputs": [
    {
     "data": {
      "text/plain": [
       "{'offerer': '0xD8e34f3d8bCC1Ca84F307175203FEe03F7F2CB89',\n",
       " 'zone': '0x004C00500000aD104D7DBd00e3ae0A5C00560C00',\n",
       " 'orderHash': HexBytes('0x72c60417e55aefef7f31af797a525e29612cb04e96f6e184430b38f7b47e0154'),\n",
       " 'recipient': '0xCEAb18Da9132ae7E712180B820f28C5ce6E76Ad7',\n",
       " 'offer': ((2, '0xd93206bd0062cc054e397ecccdb8436c3fa5700e', 29032, 1),),\n",
       " 'consideration': ((0,\n",
       "   '0x0000000000000000000000000000000000000000',\n",
       "   0,\n",
       "   28050000000000000,\n",
       "   '0xd8e34f3d8bcc1ca84f307175203fee03f7f2cb89'),\n",
       "  (0,\n",
       "   '0x0000000000000000000000000000000000000000',\n",
       "   0,\n",
       "   750000000000000,\n",
       "   '0x0000a26b00c1f0df003000390027140000faa719'),\n",
       "  (0,\n",
       "   '0x0000000000000000000000000000000000000000',\n",
       "   0,\n",
       "   1200000000000000,\n",
       "   '0xa57ec3a618b6969a6b1fec2ef4bf54b2afc5ca30'))}"
      ]
     },
     "execution_count": 9,
     "metadata": {},
     "output_type": "execute_result"
    }
   ],
   "source": [
    "recent_trades[\"event_arguments\"].iloc[-1]"
   ]
  },
  {
   "cell_type": "code",
   "execution_count": null,
   "metadata": {},
   "outputs": [],
   "source": []
  },
  {
   "cell_type": "code",
   "execution_count": 10,
   "metadata": {},
   "outputs": [],
   "source": [
    "\"\"\"\n",
    " *   event OrderFulfilled(\n",
    " *     bytes32 orderHash,\n",
    " *     address indexed offerer,\n",
    " *     address indexed zone,\n",
    " *     address fulfiller,\n",
    " *     SpentItem[] offer > (itemType, token, id, amount)\n",
    " *     ReceivedItem[] consideration > (itemType, token, id, amount, recipient)\n",
    " *   )\n",
    " *\n",
    "\"\"\"\n",
    "\n",
    "def parse_trades(trades):\n",
    "    blocks = trades.iloc[::1000][\"block_number\"].to_list()\n",
    "    timestamps = [chain.blocks[i].timestamp for i in blocks]\n",
    "    trades[\"timestamp\"] = pd.to_datetime(np.interp(trades[\"block_number\"], blocks, timestamps) * 1e9)\n",
    "    offers = [args[\"offer\"] for args in recent_trades[\"event_arguments\"]]\n",
    "    receipts = [args[\"consideration\"] for args in recent_trades[\"event_arguments\"]]\n",
    "    trades[\"offer_tokens\"] = [offer[0][1] if len(offer) > 0 else 'null' for offer in offers]\n",
    "    trades[\"receipt_tokens\"] = [receipt[0][1] if len(receipt) > 0 else 'null' for receipt in receipts]\n",
    "    return trades"
   ]
  },
  {
   "cell_type": "code",
   "execution_count": 11,
   "metadata": {},
   "outputs": [
    {
     "name": "stdout",
     "output_type": "stream",
     "text": [
      "CPU times: user 619 ms, sys: 33.7 ms, total: 653 ms\n",
      "Wall time: 8.09 s\n"
     ]
    }
   ],
   "source": [
    "%time parsed_trades = parse_trades(recent_trades)"
   ]
  },
  {
   "cell_type": "code",
   "execution_count": 12,
   "metadata": {},
   "outputs": [],
   "source": [
    "top_offered_tokens = pd.DataFrame(parsed_trades[\"offer_tokens\"].value_counts().reset_index().values, \n",
    "                                  columns=[\"Offer token address\", \"Occurrences\"])\n",
    "top_received_tokens = pd.DataFrame(parsed_trades[\"receipt_tokens\"].value_counts().reset_index().values,\n",
    "                                  columns=[\"Receipt token address\", \"Occurrences\"])\n"
   ]
  },
  {
   "cell_type": "code",
   "execution_count": 13,
   "metadata": {},
   "outputs": [],
   "source": [
    "top_offered_tokens_contracts = [Contract(address) if address != 'null' else 'null' \n",
    "                                for address in top_offered_tokens[\"Offer token address\"].head(5)]"
   ]
  },
  {
   "cell_type": "code",
   "execution_count": 14,
   "metadata": {},
   "outputs": [],
   "source": [
    "top_received_tokens_contracts = [Contract(address) if address != 'null' \n",
    "                                and address != '0x0000000000000000000000000000000000000000'\n",
    "                                else 'null'\n",
    "                                for address in top_received_tokens[\"Receipt token address\"].head(5)]"
   ]
  },
  {
   "cell_type": "code",
   "execution_count": 15,
   "metadata": {},
   "outputs": [
    {
     "data": {
      "text/plain": [
       "[<WETH9 0xC02aaA39b223FE8D0A0e5C4F27eAD9083C756Cc2>,\n",
       " <Delusion 0x2c0d708C6E82DC6c427CE6A96BA5ff2EA09bE272>,\n",
       " <Namida 0x81cF764150665eE2F4FA62Ca1A9Ff4324b29ec2B>,\n",
       " <GangApeBlingClub 0xE0d2ACE5DEbC43d3e0e758577D111C4859DF6F7e>,\n",
       " <SharedStorefrontLazyMintAdapter 0xA604060890923Ff400e8c6f5290461A83AEDACec>]"
      ]
     },
     "execution_count": 15,
     "metadata": {},
     "output_type": "execute_result"
    }
   ],
   "source": [
    "# most common offered token in seaport trades in the past day\n",
    "top_offered_tokens_contracts"
   ]
  },
  {
   "cell_type": "code",
   "execution_count": 16,
   "metadata": {},
   "outputs": [
    {
     "data": {
      "text/plain": [
       "['null',\n",
       " 'null',\n",
       " <BaseRegistrarImplementation 0x57f1887a8BF19b14fC0dF6Fd9B2acc9Af147eA85>,\n",
       " <RedeemableToken 0xa49a0e5eF83cF89Ac8aae182f22E6464B229eFC8>,\n",
       " <Gala 0x15D4c048F83bd7e37d49eA4C83a07267Ec4203dA>]"
      ]
     },
     "execution_count": 16,
     "metadata": {},
     "output_type": "execute_result"
    }
   ],
   "source": [
    "# most common received token in seaport trades in the past day\n",
    "top_received_tokens_contracts"
   ]
  },
  {
   "cell_type": "code",
   "execution_count": null,
   "metadata": {},
   "outputs": [],
   "source": []
  },
  {
   "cell_type": "code",
   "execution_count": null,
   "metadata": {},
   "outputs": [],
   "source": []
  }
 ],
 "metadata": {
  "kernelspec": {
   "display_name": "Python 3 (ipykernel)",
   "language": "python",
   "name": "python3"
  },
  "language_info": {
   "codemirror_mode": {
    "name": "ipython",
    "version": 3
   },
   "file_extension": ".py",
   "mimetype": "text/x-python",
   "name": "python",
   "nbconvert_exporter": "python",
   "pygments_lexer": "ipython3",
   "version": "3.8.0"
  },
  "vscode": {
   "interpreter": {
    "hash": "31f2aee4e71d21fbe5cf8b01ff0e069b9275f58929596ceb00d14d90e3e16cd6"
   }
  }
 },
 "nbformat": 4,
 "nbformat_minor": 2
}
