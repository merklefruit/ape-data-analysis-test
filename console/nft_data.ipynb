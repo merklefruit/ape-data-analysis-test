{
 "cells": [
  {
   "cell_type": "code",
   "execution_count": 58,
   "metadata": {},
   "outputs": [],
   "source": [
    "# some ape notebook examples:\n",
    "# curve steth analysis: https://github.com/fmrmf/hello-ape/blob/main/console/hello-ape.ipynb\n",
    "# uniswap usdc/usdt 1bps pool analysis: https://gist.github.com/banteg/dcf6082ff7fc6ad51ce220146f29d9ff\n",
    "\n",
    "from ape import accounts, chain, Contract, networks\n",
    "import matplotlib.pyplot as plt\n",
    "import numpy as np\n",
    "import pandas as pd"
   ]
  },
  {
   "cell_type": "code",
   "execution_count": 4,
   "metadata": {},
   "outputs": [
    {
     "data": {
      "text/plain": [
       "<alchemy chain_id=1>"
      ]
     },
     "execution_count": 4,
     "metadata": {},
     "output_type": "execute_result"
    }
   ],
   "source": [
    "networks.parse_network_choice('ethereum:mainnet:alchemy').__enter__()"
   ]
  },
  {
   "cell_type": "code",
   "execution_count": 74,
   "metadata": {},
   "outputs": [
    {
     "data": {
      "text/plain": [
       "'Seaport'"
      ]
     },
     "execution_count": 74,
     "metadata": {},
     "output_type": "execute_result"
    }
   ],
   "source": [
    "seaport = Contract(\"0x00000000006c3852cbEf3e08E8dF289169EdE581\")\n",
    "seaport.name()"
   ]
  },
  {
   "cell_type": "code",
   "execution_count": 6,
   "metadata": {},
   "outputs": [
    {
     "data": {
      "text/plain": [
       "OrderFulfilled(bytes32 orderHash, address indexed offerer, address indexed zone, address recipient, (uint8,address,uint256,uint256)[] offer, (uint8,address,uint256,uint256,address)[] consideration)"
      ]
     },
     "execution_count": 6,
     "metadata": {},
     "output_type": "execute_result"
    }
   ],
   "source": [
    "seaport.OrderFulfilled"
   ]
  },
  {
   "cell_type": "code",
   "execution_count": 7,
   "metadata": {},
   "outputs": [],
   "source": [
    "curr_block = chain.blocks[-1].number\n",
    "blocks_1d = int(60*60*24/12)"
   ]
  },
  {
   "cell_type": "code",
   "execution_count": 8,
   "metadata": {},
   "outputs": [
    {
     "data": {
      "text/plain": [
       "15457908"
      ]
     },
     "execution_count": 8,
     "metadata": {},
     "output_type": "execute_result"
    }
   ],
   "source": [
    "start_block = curr_block - blocks_1d\n",
    "start_block"
   ]
  },
  {
   "cell_type": "code",
   "execution_count": 9,
   "metadata": {},
   "outputs": [
    {
     "name": "stdout",
     "output_type": "stream",
     "text": [
      "INFO: Cache database has not been initialized\n",
      "CPU times: user 35 s, sys: 1.67 s, total: 36.7 s\n",
      "Wall time: 37.6 s\n"
     ]
    }
   ],
   "source": [
    "%time recent_trades = seaport.OrderFulfilled.query(\"*\", start_block=start_block)"
   ]
  },
  {
   "cell_type": "code",
   "execution_count": 10,
   "metadata": {},
   "outputs": [
    {
     "data": {
      "text/html": [
       "<div>\n",
       "<style scoped>\n",
       "    .dataframe tbody tr th:only-of-type {\n",
       "        vertical-align: middle;\n",
       "    }\n",
       "\n",
       "    .dataframe tbody tr th {\n",
       "        vertical-align: top;\n",
       "    }\n",
       "\n",
       "    .dataframe thead th {\n",
       "        text-align: right;\n",
       "    }\n",
       "</style>\n",
       "<table border=\"1\" class=\"dataframe\">\n",
       "  <thead>\n",
       "    <tr style=\"text-align: right;\">\n",
       "      <th></th>\n",
       "      <th>event_name</th>\n",
       "      <th>contract_address</th>\n",
       "      <th>event_arguments</th>\n",
       "      <th>transaction_hash</th>\n",
       "      <th>block_number</th>\n",
       "      <th>block_hash</th>\n",
       "      <th>log_index</th>\n",
       "      <th>transaction_index</th>\n",
       "    </tr>\n",
       "  </thead>\n",
       "  <tbody>\n",
       "    <tr>\n",
       "      <th>0</th>\n",
       "      <td>OrderFulfilled</td>\n",
       "      <td>0x00000000006c3852cbEf3e08E8dF289169EdE581</td>\n",
       "      <td>{'offerer': '0xa028a1e8b57b4baa77867b529650886...</td>\n",
       "      <td>0x267684f029d2c804ffda5deae0850baf9e37486aa622...</td>\n",
       "      <td>15457908</td>\n",
       "      <td>0x1efaa679ce4373843ea455ae9b840c8aa864289fabd9...</td>\n",
       "      <td>106</td>\n",
       "      <td>95</td>\n",
       "    </tr>\n",
       "    <tr>\n",
       "      <th>1</th>\n",
       "      <td>OrderFulfilled</td>\n",
       "      <td>0x00000000006c3852cbEf3e08E8dF289169EdE581</td>\n",
       "      <td>{'offerer': '0x197A17071753Cd298970412cb30E67E...</td>\n",
       "      <td>0x72384213e719ce93db4edc9ef3faf912d4fe6106e669...</td>\n",
       "      <td>15457908</td>\n",
       "      <td>0x1efaa679ce4373843ea455ae9b840c8aa864289fabd9...</td>\n",
       "      <td>115</td>\n",
       "      <td>107</td>\n",
       "    </tr>\n",
       "    <tr>\n",
       "      <th>2</th>\n",
       "      <td>OrderFulfilled</td>\n",
       "      <td>0x00000000006c3852cbEf3e08E8dF289169EdE581</td>\n",
       "      <td>{'offerer': '0xb1A495A26963b83C8fE024c03CAe8A9...</td>\n",
       "      <td>0x1b66885d5ca1538a0d5a1bc531580247a2594f15d7a5...</td>\n",
       "      <td>15457908</td>\n",
       "      <td>0x1efaa679ce4373843ea455ae9b840c8aa864289fabd9...</td>\n",
       "      <td>127</td>\n",
       "      <td>112</td>\n",
       "    </tr>\n",
       "    <tr>\n",
       "      <th>3</th>\n",
       "      <td>OrderFulfilled</td>\n",
       "      <td>0x00000000006c3852cbEf3e08E8dF289169EdE581</td>\n",
       "      <td>{'offerer': '0x331f9e988d9Eb82e7962c8c8f4b965B...</td>\n",
       "      <td>0x1b66885d5ca1538a0d5a1bc531580247a2594f15d7a5...</td>\n",
       "      <td>15457908</td>\n",
       "      <td>0x1efaa679ce4373843ea455ae9b840c8aa864289fabd9...</td>\n",
       "      <td>128</td>\n",
       "      <td>112</td>\n",
       "    </tr>\n",
       "    <tr>\n",
       "      <th>4</th>\n",
       "      <td>OrderFulfilled</td>\n",
       "      <td>0x00000000006c3852cbEf3e08E8dF289169EdE581</td>\n",
       "      <td>{'offerer': '0x8951F25aDcC7C3256dd9b521ED726fB...</td>\n",
       "      <td>0x3a8db23a564c819c215f32f79adaaedf60415b6d40bc...</td>\n",
       "      <td>15457908</td>\n",
       "      <td>0x1efaa679ce4373843ea455ae9b840c8aa864289fabd9...</td>\n",
       "      <td>146</td>\n",
       "      <td>115</td>\n",
       "    </tr>\n",
       "  </tbody>\n",
       "</table>\n",
       "</div>"
      ],
      "text/plain": [
       "       event_name                            contract_address  \\\n",
       "0  OrderFulfilled  0x00000000006c3852cbEf3e08E8dF289169EdE581   \n",
       "1  OrderFulfilled  0x00000000006c3852cbEf3e08E8dF289169EdE581   \n",
       "2  OrderFulfilled  0x00000000006c3852cbEf3e08E8dF289169EdE581   \n",
       "3  OrderFulfilled  0x00000000006c3852cbEf3e08E8dF289169EdE581   \n",
       "4  OrderFulfilled  0x00000000006c3852cbEf3e08E8dF289169EdE581   \n",
       "\n",
       "                                     event_arguments  \\\n",
       "0  {'offerer': '0xa028a1e8b57b4baa77867b529650886...   \n",
       "1  {'offerer': '0x197A17071753Cd298970412cb30E67E...   \n",
       "2  {'offerer': '0xb1A495A26963b83C8fE024c03CAe8A9...   \n",
       "3  {'offerer': '0x331f9e988d9Eb82e7962c8c8f4b965B...   \n",
       "4  {'offerer': '0x8951F25aDcC7C3256dd9b521ED726fB...   \n",
       "\n",
       "                                    transaction_hash  block_number  \\\n",
       "0  0x267684f029d2c804ffda5deae0850baf9e37486aa622...      15457908   \n",
       "1  0x72384213e719ce93db4edc9ef3faf912d4fe6106e669...      15457908   \n",
       "2  0x1b66885d5ca1538a0d5a1bc531580247a2594f15d7a5...      15457908   \n",
       "3  0x1b66885d5ca1538a0d5a1bc531580247a2594f15d7a5...      15457908   \n",
       "4  0x3a8db23a564c819c215f32f79adaaedf60415b6d40bc...      15457908   \n",
       "\n",
       "                                          block_hash  log_index  \\\n",
       "0  0x1efaa679ce4373843ea455ae9b840c8aa864289fabd9...        106   \n",
       "1  0x1efaa679ce4373843ea455ae9b840c8aa864289fabd9...        115   \n",
       "2  0x1efaa679ce4373843ea455ae9b840c8aa864289fabd9...        127   \n",
       "3  0x1efaa679ce4373843ea455ae9b840c8aa864289fabd9...        128   \n",
       "4  0x1efaa679ce4373843ea455ae9b840c8aa864289fabd9...        146   \n",
       "\n",
       "   transaction_index  \n",
       "0                 95  \n",
       "1                107  \n",
       "2                112  \n",
       "3                112  \n",
       "4                115  "
      ]
     },
     "execution_count": 10,
     "metadata": {},
     "output_type": "execute_result"
    }
   ],
   "source": [
    "recent_trades.head()"
   ]
  },
  {
   "cell_type": "code",
   "execution_count": 11,
   "metadata": {
    "scrolled": true
   },
   "outputs": [
    {
     "data": {
      "text/plain": [
       "{'offerer': '0x5C13A95bB4130c7Cc5e7353DeF09b79a3c557eAf',\n",
       " 'zone': '0x004C00500000aD104D7DBd00e3ae0A5C00560C00',\n",
       " 'orderHash': HexBytes('0x6a8720154307af1a0e35085bba5ef9ebc33e928cc003f7a9925325f5675b7534'),\n",
       " 'recipient': '0x026F36DEad1CC6c522a201dbDD7410421Bb45303',\n",
       " 'offer': ((2, '0x68c7a55a0b79840ed064ba1ccc7bd3b4863ff8f0', 43, 1),),\n",
       " 'consideration': ((0,\n",
       "   '0x0000000000000000000000000000000000000000',\n",
       "   0,\n",
       "   26325000000000000,\n",
       "   '0x5c13a95bb4130c7cc5e7353def09b79a3c557eaf'),\n",
       "  (0,\n",
       "   '0x0000000000000000000000000000000000000000',\n",
       "   0,\n",
       "   675000000000000,\n",
       "   '0x0000a26b00c1f0df003000390027140000faa719'))}"
      ]
     },
     "execution_count": 11,
     "metadata": {},
     "output_type": "execute_result"
    }
   ],
   "source": [
    "recent_trades[\"event_arguments\"].iloc[-1]"
   ]
  },
  {
   "cell_type": "code",
   "execution_count": null,
   "metadata": {},
   "outputs": [],
   "source": []
  },
  {
   "cell_type": "code",
   "execution_count": 106,
   "metadata": {},
   "outputs": [],
   "source": [
    "\"\"\"\n",
    " *   event OrderFulfilled(\n",
    " *     bytes32 orderHash,\n",
    " *     address indexed offerer,\n",
    " *     address indexed zone,\n",
    " *     address fulfiller,\n",
    " *     SpentItem[] offer > (itemType, token, id, amount)\n",
    " *     ReceivedItem[] consideration > (itemType, token, id, amount, recipient)\n",
    " *   )\n",
    " *\n",
    "\"\"\"\n",
    "\n",
    "def parse_trades(trades):\n",
    "    blocks = trades.iloc[::1000][\"block_number\"].to_list()\n",
    "    timestamps = [chain.blocks[i].timestamp for i in blocks]\n",
    "    trades[\"timestamp\"] = pd.to_datetime(np.interp(trades[\"block_number\"], blocks, timestamps) * 1e9)\n",
    "    offers = [args[\"offer\"] for args in recent_trades[\"event_arguments\"]]\n",
    "    receipts = [args[\"consideration\"] for args in recent_trades[\"event_arguments\"]]\n",
    "    trades[\"offer_tokens\"] = [offer[0][1] if len(offer) > 0 else 'null' for offer in offers]\n",
    "    trades[\"receipt_tokens\"] = [receipt[0][1] if len(receipt) > 0 else 'null' for receipt in receipts]\n",
    "    return trades"
   ]
  },
  {
   "cell_type": "code",
   "execution_count": 107,
   "metadata": {},
   "outputs": [
    {
     "name": "stdout",
     "output_type": "stream",
     "text": [
      "CPU times: user 574 ms, sys: 27.2 ms, total: 601 ms\n",
      "Wall time: 8.37 s\n"
     ]
    }
   ],
   "source": [
    "%time parsed_trades = parse_trades(recent_trades)"
   ]
  },
  {
   "cell_type": "code",
   "execution_count": 108,
   "metadata": {},
   "outputs": [],
   "source": [
    "top_offered_tokens = pd.DataFrame(parsed_trades[\"offer_tokens\"].value_counts().reset_index().values, \n",
    "                                  columns=[\"Offer token address\", \"Occurrences\"])\n",
    "top_received_tokens = pd.DataFrame(parsed_trades[\"receipt_tokens\"].value_counts().reset_index().values,\n",
    "                                  columns=[\"Receipt token address\", \"Occurrences\"])\n"
   ]
  },
  {
   "cell_type": "code",
   "execution_count": 115,
   "metadata": {},
   "outputs": [],
   "source": [
    "top_offered_tokens_contracts = [Contract(address) if address != 'null' else 'null' \n",
    "                                for address in top_offered_tokens[\"Offer token address\"].head(5)]"
   ]
  },
  {
   "cell_type": "code",
   "execution_count": 114,
   "metadata": {},
   "outputs": [],
   "source": [
    "top_received_tokens_contracts = [Contract(address) if address != 'null' \n",
    "                                and address != '0x0000000000000000000000000000000000000000'\n",
    "                                else 'null'\n",
    "                                for address in top_received_tokens[\"Receipt token address\"].head(5)]"
   ]
  },
  {
   "cell_type": "code",
   "execution_count": 116,
   "metadata": {},
   "outputs": [
    {
     "data": {
      "text/plain": [
       "[<WETH9 0xC02aaA39b223FE8D0A0e5C4F27eAD9083C756Cc2>,\n",
       " <Delusion 0x2c0d708C6E82DC6c427CE6A96BA5ff2EA09bE272>,\n",
       " <GangApeBlingClub 0xE0d2ACE5DEbC43d3e0e758577D111C4859DF6F7e>,\n",
       " <Namida 0x81cF764150665eE2F4FA62Ca1A9Ff4324b29ec2B>,\n",
       " <Fregfreg 0x676Fb773Bb66Fd1E34d32d2A56053FE341b84064>]"
      ]
     },
     "execution_count": 116,
     "metadata": {},
     "output_type": "execute_result"
    }
   ],
   "source": [
    "# most common offered token in seaport trades in the past day\n",
    "top_offered_tokens_contracts"
   ]
  },
  {
   "cell_type": "code",
   "execution_count": 117,
   "metadata": {},
   "outputs": [
    {
     "data": {
      "text/plain": [
       "['null',\n",
       " 'null',\n",
       " <BaseRegistrarImplementation 0x57f1887a8BF19b14fC0dF6Fd9B2acc9Af147eA85>,\n",
       " <RedeemableToken 0xa49a0e5eF83cF89Ac8aae182f22E6464B229eFC8>,\n",
       " <Gala 0x15D4c048F83bd7e37d49eA4C83a07267Ec4203dA>]"
      ]
     },
     "execution_count": 117,
     "metadata": {},
     "output_type": "execute_result"
    }
   ],
   "source": [
    "# most common received token in seaport trades in the past day\n",
    "top_received_tokens_contracts"
   ]
  },
  {
   "cell_type": "code",
   "execution_count": null,
   "metadata": {},
   "outputs": [],
   "source": []
  },
  {
   "cell_type": "code",
   "execution_count": null,
   "metadata": {},
   "outputs": [],
   "source": []
  }
 ],
 "metadata": {
  "kernelspec": {
   "display_name": "Python 3 (ipykernel)",
   "language": "python",
   "name": "python3"
  },
  "language_info": {
   "codemirror_mode": {
    "name": "ipython",
    "version": 3
   },
   "file_extension": ".py",
   "mimetype": "text/x-python",
   "name": "python",
   "nbconvert_exporter": "python",
   "pygments_lexer": "ipython3",
   "version": "3.8.0"
  },
  "vscode": {
   "interpreter": {
    "hash": "31f2aee4e71d21fbe5cf8b01ff0e069b9275f58929596ceb00d14d90e3e16cd6"
   }
  }
 },
 "nbformat": 4,
 "nbformat_minor": 2
}
